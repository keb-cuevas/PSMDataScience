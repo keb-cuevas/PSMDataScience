{
  "cells": [
    {
      "cell_type": "markdown",
      "metadata": {
        "id": "view-in-github",
        "colab_type": "text"
      },
      "source": [
        "<a href=\"https://colab.research.google.com/github/keb-cuevas/PSMDataScience/blob/main/Machine_Learning_Project.ipynb\" target=\"_parent\"><img src=\"https://colab.research.google.com/assets/colab-badge.svg\" alt=\"Open In Colab\"/></a>"
      ]
    },
    {
      "cell_type": "code",
      "execution_count": null,
      "metadata": {
        "id": "F3P9cQSXGBAZ"
      },
      "outputs": [],
      "source": [
        "import os\n",
        "\n",
        "if not os.path.exists('templates'):\n",
        "  os.makedirs('templates')\n",
        "if not os.path.exists('static'):\n",
        "  os.makedirs('static')"
      ]
    },
    {
      "cell_type": "markdown",
      "metadata": {
        "id": "hcxwF89qm4Ff"
      },
      "source": [
        "###Install NGROK"
      ]
    },
    {
      "cell_type": "code",
      "execution_count": null,
      "metadata": {
        "colab": {
          "base_uri": "https://localhost:8080/"
        },
        "id": "ko0UAyfBGBlP",
        "outputId": "25bfe3d3-1df5-43a6-8261-eceffcf364ff"
      },
      "outputs": [
        {
          "output_type": "stream",
          "name": "stdout",
          "text": [
            "Collecting flask_ngrok\n",
            "  Downloading flask_ngrok-0.0.25-py3-none-any.whl (3.1 kB)\n",
            "Requirement already satisfied: requests in /usr/local/lib/python3.7/dist-packages (from flask_ngrok) (2.23.0)\n",
            "Requirement already satisfied: Flask>=0.8 in /usr/local/lib/python3.7/dist-packages (from flask_ngrok) (1.1.4)\n",
            "Requirement already satisfied: Jinja2<3.0,>=2.10.1 in /usr/local/lib/python3.7/dist-packages (from Flask>=0.8->flask_ngrok) (2.11.3)\n",
            "Requirement already satisfied: click<8.0,>=5.1 in /usr/local/lib/python3.7/dist-packages (from Flask>=0.8->flask_ngrok) (7.1.2)\n",
            "Requirement already satisfied: Werkzeug<2.0,>=0.15 in /usr/local/lib/python3.7/dist-packages (from Flask>=0.8->flask_ngrok) (1.0.1)\n",
            "Requirement already satisfied: itsdangerous<2.0,>=0.24 in /usr/local/lib/python3.7/dist-packages (from Flask>=0.8->flask_ngrok) (1.1.0)\n",
            "Requirement already satisfied: MarkupSafe>=0.23 in /usr/local/lib/python3.7/dist-packages (from Jinja2<3.0,>=2.10.1->Flask>=0.8->flask_ngrok) (2.0.1)\n",
            "Requirement already satisfied: urllib3!=1.25.0,!=1.25.1,<1.26,>=1.21.1 in /usr/local/lib/python3.7/dist-packages (from requests->flask_ngrok) (1.24.3)\n",
            "Requirement already satisfied: certifi>=2017.4.17 in /usr/local/lib/python3.7/dist-packages (from requests->flask_ngrok) (2021.10.8)\n",
            "Requirement already satisfied: idna<3,>=2.5 in /usr/local/lib/python3.7/dist-packages (from requests->flask_ngrok) (2.10)\n",
            "Requirement already satisfied: chardet<4,>=3.0.2 in /usr/local/lib/python3.7/dist-packages (from requests->flask_ngrok) (3.0.4)\n",
            "Installing collected packages: flask-ngrok\n",
            "Successfully installed flask-ngrok-0.0.25\n"
          ]
        }
      ],
      "source": [
        "!pip install flask_ngrok"
      ]
    },
    {
      "cell_type": "code",
      "execution_count": null,
      "metadata": {
        "colab": {
          "base_uri": "https://localhost:8080/"
        },
        "id": "gDJanXCeGEij",
        "outputId": "d799bca3-056e-46b9-ff4c-1362248c8af4"
      },
      "outputs": [
        {
          "output_type": "stream",
          "name": "stdout",
          "text": [
            "deb https://ngrok-agent.s3.amazonaws.com buster main\n",
            "Get:1 https://cloud.r-project.org/bin/linux/ubuntu bionic-cran40/ InRelease [3,626 B]\n",
            "Ign:2 https://developer.download.nvidia.com/compute/cuda/repos/ubuntu1804/x86_64  InRelease\n",
            "Get:3 http://security.ubuntu.com/ubuntu bionic-security InRelease [88.7 kB]\n",
            "Get:4 http://ppa.launchpad.net/c2d4u.team/c2d4u4.0+/ubuntu bionic InRelease [15.9 kB]\n",
            "Hit:5 http://archive.ubuntu.com/ubuntu bionic InRelease\n",
            "Ign:6 https://developer.download.nvidia.com/compute/machine-learning/repos/ubuntu1804/x86_64  InRelease\n",
            "Get:7 http://archive.ubuntu.com/ubuntu bionic-updates InRelease [88.7 kB]\n",
            "Get:8 https://developer.download.nvidia.com/compute/cuda/repos/ubuntu1804/x86_64  Release [696 B]\n",
            "Hit:9 https://developer.download.nvidia.com/compute/machine-learning/repos/ubuntu1804/x86_64  Release\n",
            "Get:10 https://developer.download.nvidia.com/compute/cuda/repos/ubuntu1804/x86_64  Release.gpg [836 B]\n",
            "Get:11 https://ngrok-agent.s3.amazonaws.com buster InRelease [17.1 kB]\n",
            "Hit:12 http://ppa.launchpad.net/cran/libgit2/ubuntu bionic InRelease\n",
            "Get:14 http://archive.ubuntu.com/ubuntu bionic-backports InRelease [74.6 kB]\n",
            "Get:15 http://ppa.launchpad.net/deadsnakes/ppa/ubuntu bionic InRelease [15.9 kB]\n",
            "Get:16 https://developer.download.nvidia.com/compute/cuda/repos/ubuntu1804/x86_64  Packages [953 kB]\n",
            "Hit:17 http://ppa.launchpad.net/graphics-drivers/ppa/ubuntu bionic InRelease\n",
            "Get:18 https://ngrok-agent.s3.amazonaws.com buster/main amd64 Packages [771 B]\n",
            "Get:19 http://security.ubuntu.com/ubuntu bionic-security/main amd64 Packages [2,695 kB]\n",
            "Get:20 http://ppa.launchpad.net/c2d4u.team/c2d4u4.0+/ubuntu bionic/main Sources [1,947 kB]\n",
            "Get:21 http://archive.ubuntu.com/ubuntu bionic-updates/main amd64 Packages [3,134 kB]\n",
            "Get:22 http://security.ubuntu.com/ubuntu bionic-security/universe amd64 Packages [1,490 kB]\n",
            "Get:23 http://archive.ubuntu.com/ubuntu bionic-updates/universe amd64 Packages [2,268 kB]\n",
            "Get:24 http://ppa.launchpad.net/c2d4u.team/c2d4u4.0+/ubuntu bionic/main amd64 Packages [996 kB]\n",
            "Get:25 http://ppa.launchpad.net/deadsnakes/ppa/ubuntu bionic/main amd64 Packages [45.3 kB]\n",
            "Fetched 13.8 MB in 2s (5,677 kB/s)\n",
            "Reading package lists... Done\n",
            "Building dependency tree       \n",
            "Reading state information... Done\n",
            "45 packages can be upgraded. Run 'apt list --upgradable' to see them.\n",
            "Reading package lists... Done\n",
            "Building dependency tree       \n",
            "Reading state information... Done\n",
            "The following NEW packages will be installed:\n",
            "  ngrok\n",
            "0 upgraded, 1 newly installed, 0 to remove and 45 not upgraded.\n",
            "Need to get 5,444 kB of archives.\n",
            "After this operation, 0 B of additional disk space will be used.\n",
            "Get:1 https://ngrok-agent.s3.amazonaws.com buster/main amd64 ngrok amd64 3.0.2 [5,444 kB]\n",
            "Fetched 5,444 kB in 1s (4,627 kB/s)\n",
            "debconf: unable to initialize frontend: Dialog\n",
            "debconf: (No usable dialog-like program is installed, so the dialog based frontend cannot be used. at /usr/share/perl5/Debconf/FrontEnd/Dialog.pm line 76, <> line 1.)\n",
            "debconf: falling back to frontend: Readline\n",
            "debconf: unable to initialize frontend: Readline\n",
            "debconf: (This frontend requires a controlling tty.)\n",
            "debconf: falling back to frontend: Teletype\n",
            "dpkg-preconfigure: unable to re-open stdin: \n",
            "Selecting previously unselected package ngrok.\n",
            "(Reading database ... 155455 files and directories currently installed.)\n",
            "Preparing to unpack .../archives/ngrok_3.0.2_amd64.deb ...\n",
            "Unpacking ngrok (3.0.2) ...\n",
            "Setting up ngrok (3.0.2) ...\n"
          ]
        }
      ],
      "source": [
        "!curl -s https://ngrok-agent.s3.amazonaws.com/ngrok.asc | sudo tee /etc/apt/trusted.gpg.d/ngrok.asc >/dev/null && echo \"deb https://ngrok-agent.s3.amazonaws.com buster main\" | sudo tee /etc/apt/sources.list.d/ngrok.list && sudo apt update && sudo apt install ngrok   "
      ]
    },
    {
      "cell_type": "markdown",
      "metadata": {
        "id": "LWKSAaFxm4_H"
      },
      "source": [
        "###Code"
      ]
    },
    {
      "cell_type": "code",
      "execution_count": null,
      "metadata": {
        "colab": {
          "base_uri": "https://localhost:8080/"
        },
        "id": "AcrGKbitGF0A",
        "outputId": "9d2b29d1-3fb2-49a4-a536-2a35306c4043"
      },
      "outputs": [
        {
          "output_type": "stream",
          "name": "stdout",
          "text": [
            "Authtoken saved to configuration file: /root/.config/ngrok/ngrok.yml\n"
          ]
        }
      ],
      "source": [
        "!ngrok authtoken \"26QPrLYlH7HHU8o9yrppySGzULp_25ihv92Cir1MomqmBhFrW\""
      ]
    },
    {
      "cell_type": "code",
      "execution_count": null,
      "metadata": {
        "colab": {
          "base_uri": "https://localhost:8080/"
        },
        "id": "8I2uRR8UN6br",
        "outputId": "4ff3d433-f1fb-41f6-d0b7-1253f9073a92"
      },
      "outputs": [
        {
          "output_type": "stream",
          "name": "stdout",
          "text": [
            "<class 'pandas.core.frame.DataFrame'>\n",
            "Int64Index: 199 entries, 0 to 209\n",
            "Data columns (total 8 columns):\n",
            " #   Column                Non-Null Count  Dtype  \n",
            "---  ------                --------------  -----  \n",
            " 0   area                  199 non-null    float64\n",
            " 1   perimeter             199 non-null    float64\n",
            " 2   compactness           199 non-null    float64\n",
            " 3   lengthOfKernel        199 non-null    float64\n",
            " 4   widthOfKernel         199 non-null    float64\n",
            " 5   asymmetryCoefficient  199 non-null    float64\n",
            " 6   lengthOfKernelGroove  199 non-null    float64\n",
            " 7   seedType              199 non-null    float64\n",
            "dtypes: float64(8)\n",
            "memory usage: 14.0 KB\n"
          ]
        }
      ],
      "source": [
        "import pandas as pd\n",
        "path = 'https://kebcuevas.com/wp-content/uploads/2022/03/seeds_dataset.txt'\n",
        "\n",
        "df = pd.read_csv(path, sep= '\\t', header= None,\n",
        "                names=['area','perimeter','compactness','lengthOfKernel',\n",
        "                       'widthOfKernel','asymmetryCoefficient',\n",
        "                      'lengthOfKernelGroove','seedType'])\n",
        "\n",
        "df = df.dropna()\n",
        "df.info()"
      ]
    },
    {
      "cell_type": "code",
      "execution_count": null,
      "metadata": {
        "id": "VmcvQTlk9q_d"
      },
      "outputs": [],
      "source": [
        "X= df.drop('seedType', axis = 1)\n",
        "y= df['seedType']\n",
        "\n",
        "from sklearn.model_selection import KFold, cross_val_score, train_test_split\n",
        "\n",
        "X_train, X_test, y_train, y_test = train_test_split(X,y, test_size= 0.30, random_state=42)"
      ]
    },
    {
      "cell_type": "code",
      "execution_count": null,
      "metadata": {
        "id": "QgWdeMxwWvkG"
      },
      "outputs": [],
      "source": [
        "#do not show warnings\n",
        "import warnings\n",
        "warnings.filterwarnings(\"ignore\")\n",
        "\n",
        "#import machine learning related libraries\n",
        "from sklearn.svm import SVC\n",
        "from sklearn.multioutput import MultiOutputClassifier\n",
        "from sklearn.ensemble import GradientBoostingClassifier\n",
        "from sklearn.tree import DecisionTreeClassifier\n",
        "from sklearn.neighbors import KNeighborsClassifier\n",
        "from sklearn.naive_bayes import GaussianNB\n",
        "from sklearn.ensemble import RandomForestClassifier\n",
        "from sklearn.linear_model import LogisticRegression\n",
        "import xgboost as xgb"
      ]
    },
    {
      "cell_type": "code",
      "execution_count": null,
      "metadata": {
        "colab": {
          "base_uri": "https://localhost:8080/"
        },
        "id": "DzyPxI8gWxcy",
        "outputId": "92f89daa-5c71-47dc-e903-155ab602952d"
      },
      "outputs": [
        {
          "output_type": "stream",
          "name": "stdout",
          "text": [
            "LR [0.97142857 0.94202899]\n",
            "NB [0.9        0.91304348]\n",
            "RF [0.94285714 0.95652174]\n",
            "SVC [0.94285714 0.89855072]\n",
            "Dtree [0.84285714 0.89855072]\n",
            "XGB [0.92857143 0.94202899]\n",
            "KNN [0.94285714 0.88405797]\n"
          ]
        }
      ],
      "source": [
        "#create an array of models\n",
        "models = []\n",
        "models.append((\"LR\",LogisticRegression()))\n",
        "models.append((\"NB\",GaussianNB()))\n",
        "models.append((\"RF\",RandomForestClassifier()))\n",
        "models.append((\"SVC\",SVC()))\n",
        "models.append((\"Dtree\",DecisionTreeClassifier()))\n",
        "models.append((\"XGB\",xgb.XGBClassifier()))\n",
        "models.append((\"KNN\",KNeighborsClassifier()))\n",
        "\n",
        "#measure the accuracy \n",
        "for name,model in models:\n",
        "    kfold = KFold(n_splits=2)\n",
        "    cv_result = cross_val_score(model,X_train,y_train, cv = kfold,scoring = \"accuracy\")\n",
        "    print(name, cv_result)"
      ]
    },
    {
      "cell_type": "code",
      "execution_count": null,
      "metadata": {
        "colab": {
          "base_uri": "https://localhost:8080/"
        },
        "id": "5iwhvzrDOPCJ",
        "outputId": "94684f8b-2845-408f-bb47-115d598f23ff"
      },
      "outputs": [
        {
          "output_type": "execute_result",
          "data": {
            "text/plain": [
              "['xgb.pkl']"
            ]
          },
          "metadata": {},
          "execution_count": 9
        }
      ],
      "source": [
        "xgb_model = xgb.XGBClassifier().fit(X_train, y_train)\n",
        "\n",
        "import joblib\n",
        "\n",
        "joblib.dump(xgb_model, \"xgb.pkl\")"
      ]
    },
    {
      "cell_type": "code",
      "execution_count": null,
      "metadata": {
        "id": "B0PiaoWZGKt9"
      },
      "outputs": [],
      "source": [
        "text = '''\n",
        "\n",
        "<!DOCTYPE html>\n",
        "<html>\n",
        "    <head>\n",
        "        <title>Seed Variety Classifier</title>\n",
        "    </head>\n",
        "    \n",
        "    <body>\n",
        "        <form name=\"form\", method=\"POST\", style=\"text-align: center;\">\n",
        "            <h1><strong>Wheat Seed Variety Classifier</strong></h1>\n",
        "            <br>\n",
        "            Area: <input type=\"number\" step=\"0.01\" name=\"area\", placeholder=\"\" required/>\n",
        "            <br><br>\n",
        "            Perimeter: <input type=\"number\" step=\"0.01\" name=\"perimeter\", placeholder=\"\" required/>\n",
        "            <br><br>            \n",
        "            Compactness: <input type=\"number\" step=\"0.01\" name=\"compactness\", placeholder=\"\" required/>\n",
        "            <br><br>\n",
        "            Kernel Length: <input type=\"number\" step=\"0.01\" name=\"lengthOfKernel\", placeholder=\"\" required/>\n",
        "            <br><br>\n",
        "            Kernel Width: <input type=\"number\" step=\"0.01\" name=\"widthOfKernel\", placeholder=\"\" required/>\n",
        "            <br><br>\n",
        "            Asymmetry Coefficient: <input type=\"number\" step=\"0.01\" name=\"asymmetryCoefficient\", placeholder=\"\" required/>\n",
        "            <br><br>\n",
        "            Grove Length: <input type=\"number\" step=\"0.01\" name=\"lengthOfKernelGroove\", placeholder=\"\" required/>\n",
        "            <br><br>\n",
        "\n",
        "            <button value=\"Submit\">Identify</button>\n",
        "        </form>\n",
        "        <p style=\"text-align: center;\">The seed variety is <strong>{{ output }}</strong></p>\n",
        "        <p style=\"text-align: center;\">This was created by <a href=\"https://twitter.com/kebcuevas\">@kebcuevas</a></p>\n",
        "    </body>\n",
        "</html>\n",
        "'''\n",
        "file = open(\"templates/text.html\",\"w\")\n",
        "file.write(text)\n",
        "file.close()"
      ]
    },
    {
      "cell_type": "code",
      "execution_count": null,
      "metadata": {
        "colab": {
          "base_uri": "https://localhost:8080/"
        },
        "id": "7u1MC5kZGIFl",
        "outputId": "84d6329a-982b-4c96-cbdd-6b2b7c6692ef"
      },
      "outputs": [
        {
          "output_type": "stream",
          "name": "stdout",
          "text": [
            " * Serving Flask app \"__main__\" (lazy loading)\n",
            " * Environment: production\n",
            "\u001b[31m   WARNING: This is a development server. Do not use it in a production deployment.\u001b[0m\n",
            "\u001b[2m   Use a production WSGI server instead.\u001b[0m\n",
            " * Debug mode: off\n"
          ]
        },
        {
          "output_type": "stream",
          "name": "stderr",
          "text": [
            " * Running on http://127.0.0.1:5000/ (Press CTRL+C to quit)\n"
          ]
        },
        {
          "output_type": "stream",
          "name": "stdout",
          "text": [
            " * Running on http://93e0-34-145-237-104.ngrok.io\n",
            " * Traffic stats available on http://127.0.0.1:4040\n"
          ]
        }
      ],
      "source": [
        "from numpy import float16\n",
        "from flask_ngrok import run_with_ngrok\n",
        "from flask import Flask, render_template\n",
        "from flask import request\n",
        "\n",
        "app = Flask(__name__)\n",
        "run_with_ngrok(app)\n",
        "@app.route('/', methods=['GET', 'POST'])\n",
        "\n",
        "def text():\n",
        "  if request.method == 'POST':\n",
        "    \n",
        "    xgb = joblib.load(\"xgb.pkl\")\n",
        "    # Get values through input bars\n",
        "    area = request.form.get(\"area\")\n",
        "    perimeter = request.form.get(\"perimeter\")\n",
        "    compactness = request.form.get(\"compactness\")\n",
        "    lengthOfKernel = request.form.get(\"lengthOfKernel\")\n",
        "    widthOfKernel = request.form.get(\"widthOfKernel\")\n",
        "    asymmetryCoefficient = request.form.get(\"asymmetryCoefficient\")\n",
        "    lengthOfKernelGroove = request.form.get(\"lengthOfKernelGroove\")\n",
        "\n",
        "    # Put inputs to dataframe\n",
        "    X = pd.DataFrame([[area, perimeter, compactness, lengthOfKernel, \n",
        "                       widthOfKernel, asymmetryCoefficient, lengthOfKernelGroove]], \n",
        "                     columns = [\"area\", \"perimeter\", \"compactness\", \"lengthOfKernel\", \n",
        "                                \"widthOfKernel\", \"asymmetryCoefficient\", \"lengthOfKernelGroove\"])\n",
        "    X = X.astype(float16)\n",
        "\n",
        "    # Get prediction\n",
        "    predict = xgb.predict(X)[0]\n",
        "\n",
        "    if predict == 1.0:\n",
        "      prediction = \"Kama\"\n",
        "    \n",
        "    elif predict == 2.0:\n",
        "      prediction = \"Rosa\"\n",
        "\n",
        "    elif predict == 3.0:\n",
        "      prediction = \"Canadian\"\n",
        "\n",
        "    else:\n",
        "      prediction = \"Error\"\n",
        "\n",
        "  else:\n",
        "    prediction = 'Unknown'\n",
        "\n",
        "  return render_template('text.html', output = prediction)\n",
        "\n",
        "app.run(debug=False,host='0.0.0.0')"
      ]
    },
    {
      "cell_type": "code",
      "execution_count": null,
      "metadata": {
        "id": "OY9mM44JnwM4"
      },
      "outputs": [],
      "source": [
        ""
      ]
    }
  ],
  "metadata": {
    "colab": {
      "name": "Machine Learning Project",
      "provenance": [],
      "authorship_tag": "ABX9TyPN19qHPw8WTTxTYmn3KYJW",
      "include_colab_link": true
    },
    "kernelspec": {
      "display_name": "Python 3",
      "name": "python3"
    },
    "language_info": {
      "name": "python"
    }
  },
  "nbformat": 4,
  "nbformat_minor": 0
}